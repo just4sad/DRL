{
 "cells": [
  {
   "cell_type": "code",
   "execution_count": 11,
   "metadata": {},
   "outputs": [],
   "source": [
    "import gym"
   ]
  },
  {
   "cell_type": "code",
   "execution_count": 12,
   "metadata": {},
   "outputs": [
    {
     "name": "stderr",
     "output_type": "stream",
     "text": [
      "/Users/bearpapa/VSCODE/.conda/lib/python3.10/site-packages/gym/envs/registration.py:555: UserWarning: \u001b[33mWARN: The environment CartPole-v0 is out of date. You should consider upgrading to version `v1`.\u001b[0m\n",
      "  logger.warn(\n"
     ]
    }
   ],
   "source": [
    "e = gym.make('CartPole-v0')"
   ]
  },
  {
   "cell_type": "code",
   "execution_count": 13,
   "metadata": {},
   "outputs": [
    {
     "data": {
      "text/plain": [
       "(array([ 0.01069436,  0.00220536, -0.00574686,  0.04490807], dtype=float32),\n",
       " {})"
      ]
     },
     "execution_count": 13,
     "metadata": {},
     "output_type": "execute_result"
    }
   ],
   "source": [
    "obs = e.reset()\n",
    "obs"
   ]
  },
  {
   "cell_type": "code",
   "execution_count": 16,
   "metadata": {},
   "outputs": [
    {
     "data": {
      "text/plain": [
       "Discrete(2)"
      ]
     },
     "execution_count": 16,
     "metadata": {},
     "output_type": "execute_result"
    }
   ],
   "source": [
    "e.action_space"
   ]
  },
  {
   "cell_type": "code",
   "execution_count": 17,
   "metadata": {},
   "outputs": [
    {
     "data": {
      "text/plain": [
       "Box([-4.8000002e+00 -3.4028235e+38 -4.1887903e-01 -3.4028235e+38], [4.8000002e+00 3.4028235e+38 4.1887903e-01 3.4028235e+38], (4,), float32)"
      ]
     },
     "execution_count": 17,
     "metadata": {},
     "output_type": "execute_result"
    }
   ],
   "source": [
    "e.observation_space"
   ]
  },
  {
   "cell_type": "code",
   "execution_count": 21,
   "metadata": {},
   "outputs": [
    {
     "data": {
      "text/plain": [
       "(array([-0.01253662, -0.38810995,  0.03280904,  0.6320713 ], dtype=float32),\n",
       " 1.0,\n",
       " False,\n",
       " False,\n",
       " {})"
      ]
     },
     "execution_count": 21,
     "metadata": {},
     "output_type": "execute_result"
    }
   ],
   "source": [
    "e.step(1)"
   ]
  },
  {
   "cell_type": "code",
   "execution_count": 29,
   "metadata": {},
   "outputs": [
    {
     "name": "stdout",
     "output_type": "stream",
     "text": [
      "Episode done in 1 steps, total reward 1.00\n",
      "Episode done in 2 steps, total reward 2.00\n",
      "Episode done in 3 steps, total reward 3.00\n",
      "Episode done in 4 steps, total reward 4.00\n",
      "Episode done in 5 steps, total reward 5.00\n",
      "Episode done in 6 steps, total reward 6.00\n",
      "Episode done in 7 steps, total reward 7.00\n",
      "Episode done in 8 steps, total reward 8.00\n",
      "Episode done in 9 steps, total reward 9.00\n",
      "Episode done in 10 steps, total reward 10.00\n",
      "Episode done in 11 steps, total reward 11.00\n",
      "Episode done in 12 steps, total reward 12.00\n",
      "Episode done in 13 steps, total reward 13.00\n",
      "Episode done in 14 steps, total reward 14.00\n",
      "Episode done in 15 steps, total reward 15.00\n",
      "Episode done in 16 steps, total reward 16.00\n",
      "Episode done in 17 steps, total reward 17.00\n",
      "Episode done in 18 steps, total reward 18.00\n",
      "Episode done in 19 steps, total reward 19.00\n",
      "Episode done in 20 steps, total reward 20.00\n",
      "Episode done in 21 steps, total reward 21.00\n",
      "Episode done in 22 steps, total reward 22.00\n",
      "Episode done in 23 steps, total reward 23.00\n",
      "Episode done in 24 steps, total reward 24.00\n",
      "Episode done in 25 steps, total reward 25.00\n",
      "Episode done in 26 steps, total reward 26.00\n",
      "Episode done in 27 steps, total reward 27.00\n",
      "Episode done in 28 steps, total reward 28.00\n",
      "Episode done in 29 steps, total reward 29.00\n",
      "Episode done in 30 steps, total reward 30.00\n",
      "Episode done in 31 steps, total reward 31.00\n",
      "Episode done in 32 steps, total reward 32.00\n",
      "Episode done in 33 steps, total reward 33.00\n",
      "Episode done in 34 steps, total reward 34.00\n"
     ]
    }
   ],
   "source": [
    "import gym\n",
    "\n",
    "\n",
    "env = gym.make('CartPole-v1')\n",
    "total_reward = 0\n",
    "total_steps = 0\n",
    "obs = env.reset()\n",
    "\n",
    "while True:\n",
    "    action = env.action_space.sample()\n",
    "    obs, reward, done, _, _ = env.step(action)\n",
    "    total_reward += reward\n",
    "    total_steps += 1\n",
    "    if done:\n",
    "        break\n",
    "    print(\"Episode done in %d steps, total reward %.2f\" %\n",
    "        (total_steps, total_reward))\n",
    "        "
   ]
  },
  {
   "cell_type": "code",
   "execution_count": null,
   "metadata": {},
   "outputs": [],
   "source": []
  }
 ],
 "metadata": {
  "kernelspec": {
   "display_name": "Python 3",
   "language": "python",
   "name": "python3"
  },
  "language_info": {
   "codemirror_mode": {
    "name": "ipython",
    "version": 3
   },
   "file_extension": ".py",
   "mimetype": "text/x-python",
   "name": "python",
   "nbconvert_exporter": "python",
   "pygments_lexer": "ipython3",
   "version": "3.10.10"
  },
  "orig_nbformat": 4
 },
 "nbformat": 4,
 "nbformat_minor": 2
}
