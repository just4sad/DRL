{
 "cells": [
  {
   "cell_type": "code",
   "execution_count": 8,
   "metadata": {},
   "outputs": [],
   "source": [
    "import gym\n",
    "from typing import TypeVar\n",
    "import random"
   ]
  },
  {
   "cell_type": "code",
   "execution_count": 2,
   "metadata": {},
   "outputs": [
    {
     "name": "stderr",
     "output_type": "stream",
     "text": [
      "/Users/bearpapa/VSCODE/.conda/lib/python3.10/site-packages/gym/envs/registration.py:555: UserWarning: \u001b[33mWARN: The environment CartPole-v0 is out of date. You should consider upgrading to version `v1`.\u001b[0m\n",
      "  logger.warn(\n"
     ]
    }
   ],
   "source": [
    "e = gym.make('CartPole-v0')"
   ]
  },
  {
   "cell_type": "code",
   "execution_count": 3,
   "metadata": {},
   "outputs": [
    {
     "data": {
      "text/plain": [
       "(array([ 0.00951299, -0.03344326,  0.04078174, -0.04380943], dtype=float32),\n",
       " {})"
      ]
     },
     "execution_count": 3,
     "metadata": {},
     "output_type": "execute_result"
    }
   ],
   "source": [
    "obs = e.reset()\n",
    "obs"
   ]
  },
  {
   "cell_type": "code",
   "execution_count": 4,
   "metadata": {},
   "outputs": [
    {
     "data": {
      "text/plain": [
       "Discrete(2)"
      ]
     },
     "execution_count": 4,
     "metadata": {},
     "output_type": "execute_result"
    }
   ],
   "source": [
    "e.action_space"
   ]
  },
  {
   "cell_type": "code",
   "execution_count": 5,
   "metadata": {},
   "outputs": [
    {
     "data": {
      "text/plain": [
       "Box([-4.8000002e+00 -3.4028235e+38 -4.1887903e-01 -3.4028235e+38], [4.8000002e+00 3.4028235e+38 4.1887903e-01 3.4028235e+38], (4,), float32)"
      ]
     },
     "execution_count": 5,
     "metadata": {},
     "output_type": "execute_result"
    }
   ],
   "source": [
    "e.observation_space"
   ]
  },
  {
   "cell_type": "code",
   "execution_count": 6,
   "metadata": {},
   "outputs": [
    {
     "name": "stderr",
     "output_type": "stream",
     "text": [
      "/Users/bearpapa/VSCODE/.conda/lib/python3.10/site-packages/gym/utils/passive_env_checker.py:233: DeprecationWarning: `np.bool8` is a deprecated alias for `np.bool_`.  (Deprecated NumPy 1.24)\n",
      "  if not isinstance(terminated, (bool, np.bool8)):\n"
     ]
    },
    {
     "data": {
      "text/plain": [
       "(array([ 0.00884412,  0.16107088,  0.03990555, -0.32335153], dtype=float32),\n",
       " 1.0,\n",
       " False,\n",
       " False,\n",
       " {})"
      ]
     },
     "execution_count": 6,
     "metadata": {},
     "output_type": "execute_result"
    }
   ],
   "source": [
    "e.step(1)"
   ]
  },
  {
   "cell_type": "code",
   "execution_count": 7,
   "metadata": {},
   "outputs": [
    {
     "name": "stdout",
     "output_type": "stream",
     "text": [
      "Episode done in 1 steps, total reward 1.00\n",
      "Episode done in 2 steps, total reward 2.00\n",
      "Episode done in 3 steps, total reward 3.00\n",
      "Episode done in 4 steps, total reward 4.00\n",
      "Episode done in 5 steps, total reward 5.00\n",
      "Episode done in 6 steps, total reward 6.00\n",
      "Episode done in 7 steps, total reward 7.00\n",
      "Episode done in 8 steps, total reward 8.00\n",
      "Episode done in 9 steps, total reward 9.00\n",
      "Episode done in 10 steps, total reward 10.00\n",
      "Episode done in 11 steps, total reward 11.00\n",
      "Episode done in 12 steps, total reward 12.00\n",
      "Episode done in 13 steps, total reward 13.00\n",
      "Episode done in 14 steps, total reward 14.00\n",
      "Episode done in 15 steps, total reward 15.00\n",
      "Episode done in 16 steps, total reward 16.00\n",
      "Episode done in 17 steps, total reward 17.00\n",
      "Episode done in 18 steps, total reward 18.00\n",
      "Episode done in 19 steps, total reward 19.00\n",
      "Episode done in 20 steps, total reward 20.00\n"
     ]
    }
   ],
   "source": [
    "import gym\n",
    "\n",
    "\n",
    "env = gym.make('CartPole-v1')\n",
    "total_reward = 0\n",
    "total_steps = 0\n",
    "obs = env.reset()\n",
    "\n",
    "while True:\n",
    "    action = env.action_space.sample()\n",
    "    obs, reward, done, _, _ = env.step(action)\n",
    "    total_reward += reward\n",
    "    total_steps += 1\n",
    "    if done:\n",
    "        break\n",
    "    print(\"Episode done in %d steps, total reward %.2f\" %\n",
    "        (total_steps, total_reward))\n",
    "        "
   ]
  },
  {
   "cell_type": "code",
   "execution_count": 15,
   "metadata": {},
   "outputs": [],
   "source": [
    "from gym.core import Env\n",
    "\n",
    "\n",
    "Action = TypeVar('Action')\n",
    "class RandomActionWrapper(gym.ActionWrapper):\n",
    "    \n",
    "    def __init__(self, env: Env, epsilon=0.1):\n",
    "        super(RandomActionWrapper, self).__init__(env)\n",
    "        self.epsilon = epsilon\n",
    "        \n",
    "    def action(self, action:Action) -> Action:\n",
    "        if random.random() < self.epsilon:\n",
    "            print('Random')\n",
    "            return self.env.action_space.sample()\n",
    "        return action"
   ]
  },
  {
   "cell_type": "code",
   "execution_count": 19,
   "metadata": {},
   "outputs": [],
   "source": [
    "env = RandomActionWrapper(gym.make('CartPole-v1'))"
   ]
  },
  {
   "cell_type": "code",
   "execution_count": 20,
   "metadata": {},
   "outputs": [
    {
     "name": "stdout",
     "output_type": "stream",
     "text": [
      "Reward got: 1.00\n",
      "Reward got: 2.00\n",
      "Random\n",
      "Reward got: 3.00\n",
      "Reward got: 4.00\n",
      "Reward got: 5.00\n",
      "Reward got: 6.00\n",
      "Reward got: 7.00\n",
      "Reward got: 8.00\n",
      "Reward got: 9.00\n",
      "Reward got: 10.00\n",
      "Reward got: 11.00\n"
     ]
    },
    {
     "name": "stderr",
     "output_type": "stream",
     "text": [
      "/Users/bearpapa/VSCODE/.conda/lib/python3.10/site-packages/gym/utils/passive_env_checker.py:233: DeprecationWarning: `np.bool8` is a deprecated alias for `np.bool_`.  (Deprecated NumPy 1.24)\n",
      "  if not isinstance(terminated, (bool, np.bool8)):\n"
     ]
    }
   ],
   "source": [
    "obs = env.reset()\n",
    "total_reward = 0.0\n",
    "while True:\n",
    "    obs, reward, done, _, _ = env.step(0)\n",
    "    total_reward += reward\n",
    "    if done:\n",
    "        break\n",
    "    print(\"Reward got: %.2f\" % total_reward)"
   ]
  },
  {
   "cell_type": "code",
   "execution_count": null,
   "metadata": {},
   "outputs": [],
   "source": []
  }
 ],
 "metadata": {
  "kernelspec": {
   "display_name": "Python 3",
   "language": "python",
   "name": "python3"
  },
  "language_info": {
   "codemirror_mode": {
    "name": "ipython",
    "version": 3
   },
   "file_extension": ".py",
   "mimetype": "text/x-python",
   "name": "python",
   "nbconvert_exporter": "python",
   "pygments_lexer": "ipython3",
   "version": "3.10.10"
  },
  "orig_nbformat": 4
 },
 "nbformat": 4,
 "nbformat_minor": 2
}
